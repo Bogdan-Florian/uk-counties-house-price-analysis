{
 "cells": [
  {
   "cell_type": "code",
   "execution_count": null,
   "metadata": {},
   "outputs": [],
   "source": [
    "import csv\n",
    "from collections import defaultdict\n",
    "import pandas as pd\n",
    "import numpy as np\n",
    "import sqlite3 as sql\n",
    "import time\n",
    "import requests\n",
    "import json\n",
    "import logging\n",
    "from random import randint\n",
    "import seaborn as sns\n",
    "import scipy.stats as stats\n",
    "\n",
    "DB_NAME = 'main.db'\n",
    "\n",
    "\n",
    "NEW_BUILD = {\"N\": 0,\n",
    "             \"Y\": 1}\n",
    "\n",
    "HOUSE_TYPE ={\"D\":1,\n",
    "             \"S\":2,\n",
    "             \"O\":9,\n",
    "             \"T\":3,\n",
    "             \"F\":4}\n",
    "\n",
    "CRIME_SCORE = { \"bicycle-theft\":4,\n",
    "                \"burglary\":10,\n",
    "               \"criminal-damage-arson\":9,\n",
    "               \"drugs\":6,\n",
    "               \"other-theft\":8,\n",
    "               \"possession-of-weapons:\":10,\n",
    "               \"robbery\":10,\n",
    "               \"shoplifting\":4,\n",
    "               \"theft-from-the-person\" :7,\n",
    "               \"vehicle-crime\" : 10,\n",
    "               \"violent-crime\": 10               \n",
    "              }\n"
   ]
  },
  {
   "cell_type": "code",
   "execution_count": null,
   "metadata": {},
   "outputs": [],
   "source": [
    "leicestershire_houses = pd.read_csv('leicestershire_month_april_houses.csv')\n",
    "broadband_performance = pd.read_csv('broadband_speed.csv')"
   ]
  },
  {
   "cell_type": "code",
   "execution_count": null,
   "metadata": {},
   "outputs": [],
   "source": [
    "def create_connection(db_file):\n",
    "    conn = None\n",
    "    try:\n",
    "        conn = sql.connect(db_file)\n",
    "        return conn\n",
    "    except Error as e:\n",
    "        print(\"dunno\", e)\n",
    "\n",
    "    return conn"
   ]
  },
  {
   "cell_type": "code",
   "execution_count": null,
   "metadata": {},
   "outputs": [],
   "source": [
    "def create_table(conn, create_table_sql):\n",
    "    try:\n",
    "        c = conn.cursor()\n",
    "        c.execute(create_table_sql)\n",
    "    except Error as e:\n",
    "        print(e)"
   ]
  },
  {
   "cell_type": "code",
   "execution_count": null,
   "metadata": {},
   "outputs": [],
   "source": [
    "def get_postcode_info_api(postcode):\n",
    "    try: \n",
    "        api_string_req = 'http://127.0.0.1:8000/postcodes/{code}'.format(code = postcode)\n",
    "        r = requests.get(api_string_req).json()\n",
    "        return r['result']\n",
    "    except Exception as e:\n",
    "        print(e)\n",
    "        return None\n"
   ]
  },
  {
   "cell_type": "code",
   "execution_count": null,
   "metadata": {},
   "outputs": [],
   "source": [
    "\n",
    "sql_houses_leicestershire = \"\"\" CREATE TABLE IF NOT EXISTS leicestershire_houses (\n",
    "                                id INTEGER PRIMARY KEY AUTOINCREMENT,\n",
    "                                postcode text,\n",
    "                                admin_district,\n",
    "                                price int,\n",
    "                                type int,\n",
    "                                new_build int,\n",
    "                                crime_score int,\n",
    "                                broadband_speed int\n",
    "                                ); \"\"\"\n",
    "sql_houses_warwickshire = \"\"\" CREATE TABLE IF NOT EXISTS warwickshire_houses (\n",
    "                                id INTEGER PRIMARY KEY AUTOINCREMENT,\n",
    "                                postcode text,\n",
    "                                admin_district text\n",
    "                                price int,\n",
    "                                type int,\n",
    "                                new_build int,\n",
    "                                crime_score int,\n",
    "                                broadband_speed int\n",
    "                                ); \"\"\"\n",
    "conn = create_connection(DB_NAME)\n",
    "if conn is not None:\n",
    "    create_table(conn, sql_houses_warwickshire)\n",
    "    create_table(conn, sql_houses_leicestershire)\n",
    "\n",
    "\n",
    "else:\n",
    "    print(\"Error! cannot create the database connection.\")"
   ]
  },
  {
   "cell_type": "code",
   "execution_count": null,
   "metadata": {},
   "outputs": [],
   "source": [
    "def get_crime_external_api(lat,long):\n",
    "    crime_score = 0\n",
    "    for month in range(1,13):\n",
    "        api_string_req = 'https://data.police.uk/api/crimes-at-location?date=2018-{month}&lat={lat}&lng={long}'.format(lat=lat,long=long, month= month)\n",
    "        try:\n",
    "            r = requests.get(api_string_req).json()\n",
    "            for crime_data in r:\n",
    "                try:\n",
    "                    category = crime_data['category']\n",
    "                    crime_score += CRIME_SCORE[category]\n",
    "                except KeyError:\n",
    "                    continue\n",
    "        except Exception as e:\n",
    "            print(e)\n",
    "            continue\n",
    "    return crime_score"
   ]
  },
  {
   "cell_type": "code",
   "execution_count": null,
   "metadata": {},
   "outputs": [],
   "source": [
    "def database_populate(sql_connection,table,csv_houses):\n",
    "    cur = sql_connection.cursor()\n",
    "    record_number = 1\n",
    "    for index,data in csv_houses.iterrows():\n",
    "        house_postcode = data['postcode']\n",
    "        house_price = data['price_paid']\n",
    "        additional_data = get_postcode_info_api(house_postcode)\n",
    "        \n",
    "        if additional_data is None:\n",
    "            continue\n",
    "        town_city = additional_data['admin_district']\n",
    "        new_build = NEW_BUILD[data['new_build']]\n",
    "        house_type = HOUSE_TYPE[data['property_type']]\n",
    "        lsoa = additional_data['lsoa']\n",
    "        admin_ward = additional_data['codes']['admin_ward']\n",
    "        \n",
    "        longitude = additional_data['longitude']\n",
    "        latitude = additional_data['latitude']\n",
    "        criminality_score = get_crime_external_api(latitude,longitude)\n",
    "        for index,data in broadband_performance.iterrows():\n",
    "            if data['id'] == admin_ward:\n",
    "                    broadband_speed = data['average']\n",
    "                    break\n",
    "        \n",
    "        sql_statement = \"\"\" INSERT INTO {table_name} \n",
    "        (postcode,admin_district,price,type,new_build,crime_score,broadband_speed) \n",
    "        VALUES ({pc}, {a}, {p}, {t}, {nb}, {cs}, {ba})\"\"\".format(\n",
    "            table_name = table, \n",
    "            a = '\"{}\"'.format(town_city), \n",
    "            pc = '\"{}\"'.format(house_postcode), \n",
    "            p = house_price, \n",
    "            t = house_type, \n",
    "            nb = new_build,\n",
    "            cs = criminality_score,\n",
    "            ba = broadband_speed\n",
    "        )\n",
    "        cur.execute(sql_statement)\n",
    "        print(record_number)\n",
    "        record_number+=1"
   ]
  },
  {
   "cell_type": "code",
   "execution_count": null,
   "metadata": {},
   "outputs": [],
   "source": [
    "with sql.connect(DB_NAME) as con:\n",
    "    database_populate(con,\"leicestershire_houses\",leicestershire_houses)"
   ]
  },
  {
   "cell_type": "code",
   "execution_count": null,
   "metadata": {},
   "outputs": [],
   "source": [
    "con = create_connection(DB_NAME)\n",
    "\n",
    "pd.set_option('display.float_format', lambda x: '%.0f' % x)\n",
    "df = pd.read_sql_query(\"SELECT * from leicestershire_houses\", con)\n",
    "df.describe()"
   ]
  },
  {
   "cell_type": "code",
   "execution_count": null,
   "metadata": {},
   "outputs": [],
   "source": [
    "sns.set(rc={'figure.figsize':(11.7,8.27)})\n",
    "# df[['price','crime_score','broadband_speed','type','new_build']].corr()\n",
    "\n",
    "#plot the correlation matrix of salary, balance and age in data dataframe.\n",
    "sns.heatmap(df[['price','crime_score','broadband_speed','new_build']].corr(), annot=True, cmap = 'Reds')"
   ]
  },
  {
   "cell_type": "code",
   "execution_count": null,
   "metadata": {},
   "outputs": [],
   "source": [
    "price = df['price']\n",
    "g = sns.relplot(x=\"crime_score\", y=\"price\", hue=\"new_build\", palette=\"ch:r=-.1,l=.55\", data=df,s=50);\n",
    "g.fig.set_size_inches(13,5)\n"
   ]
  },
  {
   "cell_type": "code",
   "execution_count": null,
   "metadata": {},
   "outputs": [],
   "source": [
    "price = df['price']\n",
    "g = sns.relplot(x=\"crime_score\", y=\"price\", palette=\"ch:r=-.25,l=.85\", data=df,s=50);\n",
    "g.fig.set_size_inches(13,5)\n"
   ]
  },
  {
   "cell_type": "code",
   "execution_count": null,
   "metadata": {},
   "outputs": [],
   "source": [
    "def get_df_z_score(main_df):\n",
    "    z_score_df = main_df[['price', 'crime_score', 'broadband_speed']].copy()\n",
    "    return stats.zscore(z_score_df)\n",
    "    \n",
    "    "
   ]
  },
  {
   "cell_type": "code",
   "execution_count": null,
   "metadata": {},
   "outputs": [],
   "source": [
    "conn = create_connection('main.db')\n",
    "\n",
    "def basic_recommandation_system(conn):\n",
    "    print(\"Select a level of importance 1-10 for the following\")\n",
    "    crime_rate = int(input(\"Crime Rate:\"))\n",
    "    price = int(input(\"House Price:\"))\n",
    "    broadband = int(input(\"Broadband Speed:\"))\n",
    "    added_up = sum([crime_rate,price,broadband])\n",
    "    user_crime_score = crime_rate / added_up\n",
    "    user_price_score = price / added_up\n",
    "    user_broadband_score = broadband / added_up\n",
    "    df = pd.read_sql_query(\"SELECT * from leicestershire_houses\", conn)\n",
    "    df[\"final_score\"] = np.nan\n",
    "    z_score = get_df_z_score(df)\n",
    "    for index,data in df.iterrows():\n",
    "        df.at[index,'final_score'] = z_score[index][0] * user_price_score +  z_score[index][1] * user_crime_score + (z_score[index][2] * -1) * user_broadband_score\n",
    "    test = df.sort_values('final_score', ascending=True, kind=\"quicksort\")\n",
    "    print(test)\n",
    "    return test\n",
    "scored_houses = basic_recommandation_system(conn)"
   ]
  },
  {
   "cell_type": "code",
   "execution_count": null,
   "metadata": {},
   "outputs": [],
   "source": [
    "# required_index = [j + i for i in range(0,26000,30)]\n",
    "# skip_index = [index for index in range(0,26000) if index not in required_indexes]\n",
    "\n",
    "\n",
    "# a = pd.read_csv('leicestershire_month_april_houses.csv', skiprows=skip_index)\n",
    "# for index,data in a.iterrows():\n",
    "#     print(index)"
   ]
  }
 ],
 "metadata": {
  "kernelspec": {
   "display_name": "Python 3",
   "language": "python",
   "name": "python3"
  },
  "language_info": {
   "codemirror_mode": {
    "name": "ipython",
    "version": 3
   },
   "file_extension": ".py",
   "mimetype": "text/x-python",
   "name": "python",
   "nbconvert_exporter": "python",
   "pygments_lexer": "ipython3",
   "version": "3.8.5"
  }
 },
 "nbformat": 4,
 "nbformat_minor": 4
}
